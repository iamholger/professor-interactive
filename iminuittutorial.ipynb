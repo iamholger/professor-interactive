{
 "cells": [
  {
   "cell_type": "code",
   "execution_count": null,
   "metadata": {
    "collapsed": false
   },
   "outputs": [],
   "source": [
    "%pylab inline\n",
    "from iminuit import Minuit, describe, Struct"
   ]
  },
  {
   "cell_type": "markdown",
   "metadata": {},
   "source": [
    "##Really Quick Start\n",
    "Let go through a quick course about how to minimize things. If you use PyMinuit before you will find that iminuit is very similar to PyMinuit.\n",
    "\n",
    "Our first example is about trying to minimize a simple function:\n",
    "\n",
    "$f(x,y,z) = (x-1)^2 + (y-2)^2 + (z-3)^2 - 1$\n",
    "\n",
    "We know easily that the answer has is\n",
    "$x=1$, $y=2$, $z=3$ and the minimum value should be $-1$"
   ]
  },
  {
   "cell_type": "code",
   "execution_count": null,
   "metadata": {
    "collapsed": false
   },
   "outputs": [],
   "source": [
    "def f(x,y,z):\n",
    "    return (x-1.)**2 + (y-2*x)**2 + (z-3.*x)**2 -1."
   ]
  },
  {
   "cell_type": "markdown",
   "metadata": {},
   "source": [
    "iminuit relies on Python introspection. If you wonder what kind of function iminuit sees, you can use"
   ]
  },
  {
   "cell_type": "code",
   "execution_count": null,
   "metadata": {
    "collapsed": false
   },
   "outputs": [],
   "source": [
    "describe(f) "
   ]
  },
  {
   "cell_type": "markdown",
   "metadata": {},
   "source": [
    "###Construct Minuit Object\n",
    "To minimize we need to construct a Minuit object"
   ]
  },
  {
   "cell_type": "code",
   "execution_count": null,
   "metadata": {
    "collapsed": false
   },
   "outputs": [],
   "source": [
    "m=Minuit(f, x=2, error_x=0.2, limit_x=(-10.,10.), y=3., fix_y=True, print_level=1)"
   ]
  },
  {
   "cell_type": "markdown",
   "metadata": {},
   "source": [
    "The initial value/error are optional but it's nice to do it\n",
    "and here is how to use it\n",
    "\n",
    "- `x=2` set intial value of `x` to 2\n",
    "- `error_x=0.2` set the initial stepsize\n",
    "- `limit_x = (-1,1)` set the range for `x`\n",
    "- `y=2`, `fix_y=True` fix `y` value to 2\n",
    "\n",
    "We did not put any constain on z. Minuit will howerver warn you about missig initial error/step(using python builtin warning)."
   ]
  },
  {
   "cell_type": "markdown",
   "metadata": {},
   "source": [
    "####Check that initial setting you put in is what you want"
   ]
  },
  {
   "cell_type": "code",
   "execution_count": null,
   "metadata": {
    "collapsed": false
   },
   "outputs": [],
   "source": [
    "m.print_param()#or call print_initial_param\n",
    "#bonus: if you click the + button on the top left corner it will show latex table\n",
    "#which you can copy and paste to your beamer/latex document"
   ]
  },
  {
   "cell_type": "markdown",
   "metadata": {},
   "source": [
    "\n",
    "\n",
    "###Run Migrad\n",
    "\n",
    "Migrad performs Variable Metric Minimization. In a nutshell, it combines steepest descends algorithm along with line search strategy. Migrad is very popular in high energy physics field because of its robustness."
   ]
  },
  {
   "cell_type": "code",
   "execution_count": null,
   "metadata": {
    "collapsed": false
   },
   "outputs": [],
   "source": [
    "#Minimize\n",
    "m.migrad();\n",
    "#notice also in your prompt it prints out progress"
   ]
  },
  {
   "cell_type": "markdown",
   "metadata": {},
   "source": [
    "migrad summary table give you a nice overview of fit status. \n",
    "\n",
    "- All blocks should be green.\n",
    "- Red means something bad. \n",
    "- Yellow is a caution(fit is good but you ran over call limit)\n",
    "\n",
    "You can use the return value of `migrad()` to check fit status. Most important field is `is_valid`."
   ]
  },
  {
   "cell_type": "markdown",
   "metadata": {},
   "source": [
    "###Accessing values and errors\n",
    "####Accessing Values"
   ]
  },
  {
   "cell_type": "code",
   "execution_count": null,
   "metadata": {
    "collapsed": false
   },
   "outputs": [],
   "source": [
    "#and this is how you get the the value\n",
    "print('parameters', m.parameters)\n",
    "print('args', m.args)\n",
    "print('value', m.values)"
   ]
  },
  {
   "cell_type": "markdown",
   "metadata": {},
   "source": [
    "####Error(parabolic)"
   ]
  },
  {
   "cell_type": "code",
   "execution_count": null,
   "metadata": {
    "collapsed": false
   },
   "outputs": [],
   "source": [
    "#and the error\n",
    "print('error', m.errors)"
   ]
  },
  {
   "cell_type": "markdown",
   "metadata": {},
   "source": [
    "####Function minimum"
   ]
  },
  {
   "cell_type": "code",
   "execution_count": null,
   "metadata": {
    "collapsed": false
   },
   "outputs": [],
   "source": [
    "#and function value at the minimum\n",
    "print('fval', m.fval)\n",
    "#Tip: you can also obtain value at current state by\n",
    "print('current state', f(*m.args))"
   ]
  },
  {
   "cell_type": "markdown",
   "metadata": {},
   "source": [
    "####Correlation and Covariance Matrix"
   ]
  },
  {
   "cell_type": "code",
   "execution_count": null,
   "metadata": {
    "collapsed": false
   },
   "outputs": [],
   "source": [
    "#covariance, correlation matrix\n",
    "#remember y is fixed\n",
    "print('covariance', m.covariance)\n",
    "print('matrix()', m.matrix()) #covariance\n",
    "print('matrix(correlation=True)', m.matrix(correlation=True)) #correlation\n",
    "m.print_matrix() #correlation\n",
    "#again click the + button on the top left corner for latex code"
   ]
  },
  {
   "cell_type": "markdown",
   "metadata": {},
   "source": [
    "####Fit status"
   ]
  },
  {
   "cell_type": "code",
   "execution_count": null,
   "metadata": {
    "collapsed": false
   },
   "outputs": [],
   "source": [
    "#get mimization status\n",
    "print(m.get_fmin())\n",
    "print(m.get_fmin().is_valid)"
   ]
  },
  {
   "cell_type": "markdown",
   "metadata": {},
   "source": [
    "###Contour and $\\chi^2$/Likelihood profile\n",
    "$\\chi^2$ and contour can be obtained easily"
   ]
  },
  {
   "cell_type": "code",
   "execution_count": null,
   "metadata": {
    "collapsed": false
   },
   "outputs": [],
   "source": [
    "#minos contour\n",
    "xminos, zminos, ctr = m.mncontour('x','z')\n",
    "fill(*zip(*ctr)) #looks kinda ugly, right?"
   ]
  },
  {
   "cell_type": "code",
   "execution_count": null,
   "metadata": {
    "collapsed": false
   },
   "outputs": [],
   "source": [
    "#drawing it nicely\n",
    "m.draw_mncontour('x','z', nsigma=4);"
   ]
  },
  {
   "cell_type": "code",
   "execution_count": null,
   "metadata": {
    "collapsed": false
   },
   "outputs": [],
   "source": [
    "#or you can get the gridded data\n",
    "x, y, g, r = m.mncontour_grid('x','z', nsigma=3) # r is the raw data\n",
    "pcolormesh(x,y,g)\n",
    "colorbar()"
   ]
  },
  {
   "cell_type": "code",
   "execution_count": null,
   "metadata": {
    "collapsed": false
   },
   "outputs": [],
   "source": [
    "#1D value Scan\n",
    "x,y = m.profile('x',subtract_min=True);\n",
    "plot(x,y) #if you have matplotlib"
   ]
  },
  {
   "cell_type": "code",
   "execution_count": null,
   "metadata": {
    "collapsed": false
   },
   "outputs": [],
   "source": [
    "#we also provide convenience wrapper for drawing it\n",
    "m.draw_profile('x');"
   ]
  },
  {
   "cell_type": "code",
   "execution_count": null,
   "metadata": {
    "collapsed": false
   },
   "outputs": [],
   "source": [
    "#2d contour NOT minos contour\n",
    "x,y,z = m.contour('x','y',subtract_min=True)\n",
    "cs = contour(x,y,z)\n",
    "clabel(cs)"
   ]
  },
  {
   "cell_type": "code",
   "execution_count": null,
   "metadata": {
    "collapsed": false
   },
   "outputs": [],
   "source": [
    "#or a convenience wrapper\n",
    "m.draw_contour('x','z');"
   ]
  },
  {
   "cell_type": "markdown",
   "metadata": {},
   "source": [
    "###Hesse and Minos"
   ]
  },
  {
   "cell_type": "markdown",
   "metadata": {},
   "source": [
    "####Hesse\n",
    "Hesse find the error by finding the inverse of second derivative matrix(hessian). The error assume parabolic shape at the minimum. Hesse error is symmetric by construct. Hesse is always called at the end of migrad to get the error. You normally don't need to call it manually."
   ]
  },
  {
   "cell_type": "code",
   "execution_count": null,
   "metadata": {
    "collapsed": false
   },
   "outputs": [],
   "source": [
    "m.hesse()"
   ]
  },
  {
   "cell_type": "markdown",
   "metadata": {},
   "source": [
    "####minos\n",
    "\n",
    "minos multidimensionally scan likelihood/$\\chi^2$ until to find the contour where the value of the cost function increase by `UP`(see `set_up`). It takes really long time but give the correct error(unless it fails). "
   ]
  },
  {
   "cell_type": "code",
   "execution_count": null,
   "metadata": {
    "collapsed": false
   },
   "outputs": [],
   "source": [
    "m.minos() #call m.minos('x') if you need minos error for just 1 variable\n",
    "print(m.get_merrors()['x'])\n",
    "print(m.get_merrors()['x'].lower)\n",
    "print(m.get_merrors()['x'].upper)"
   ]
  },
  {
   "cell_type": "markdown",
   "metadata": {},
   "source": [
    "###Printing Out Nice Tables\n",
    "you can force use print_* to do various html display"
   ]
  },
  {
   "cell_type": "code",
   "execution_count": null,
   "metadata": {
    "collapsed": false
   },
   "outputs": [],
   "source": [
    "m.print_param()\n",
    "m.print_matrix()"
   ]
  },
  {
   "cell_type": "markdown",
   "metadata": {},
   "source": [
    "##Alternative Ways to define function\n",
    "###Cython\n",
    "If you want speed with minimal code change this is the way to do it. This is a quick way to use cython. For a hard core cython see hard-core-tutorial.ipynb."
   ]
  },
  {
   "cell_type": "code",
   "execution_count": null,
   "metadata": {
    "collapsed": false
   },
   "outputs": [],
   "source": [
    "#sometimes we want speeeeeeed\n",
    "%load_ext Cython\n",
    "%pylab inline\n",
    "from iminuit import Minuit, describe, Struct"
   ]
  },
  {
   "cell_type": "code",
   "execution_count": null,
   "metadata": {
    "collapsed": false
   },
   "outputs": [],
   "source": [
    "%%cython --force\n",
    "cimport cython\n",
    "import numpy as np\n",
    "cimport numpy as np #overwritten those from python with cython\n",
    "\n",
    "#@cython.binding(True) this works too\n",
    "@cython.embedsignature(True)#dump signature in pydoc so describe can extract signature\n",
    "def cython_f(double x,double y,double z):\n",
    "    return (x-1.)**2 + (y-2.)**2 + (z-3.)**2 -1."
   ]
  },
  {
   "cell_type": "code",
   "execution_count": null,
   "metadata": {
    "collapsed": false
   },
   "outputs": [],
   "source": [
    "#you can always see what iminuit will see\n",
    "print(describe(cython_f))"
   ]
  },
  {
   "cell_type": "code",
   "execution_count": null,
   "metadata": {
    "collapsed": false
   },
   "outputs": [],
   "source": [
    "m = Minuit(cython_f)\n",
    "m.migrad()\n",
    "print(m.values)"
   ]
  },
  {
   "cell_type": "markdown",
   "metadata": {},
   "source": [
    "###Callable object ie: __call__\n",
    "This is useful if you need to bound your object to some data"
   ]
  },
  {
   "cell_type": "code",
   "execution_count": null,
   "metadata": {
    "collapsed": false
   },
   "outputs": [],
   "source": [
    "%pylab inline\n",
    "from iminuit import Minuit, describe, Struct"
   ]
  },
  {
   "cell_type": "code",
   "execution_count": null,
   "metadata": {
    "collapsed": false
   },
   "outputs": [],
   "source": [
    "x = [1,2,3,4,5]\n",
    "y = [2,4,6,8,10]# y=2x\n",
    "class StraightLineChi2:\n",
    "    def __init__(self,x,y):\n",
    "        self.x = x\n",
    "        self.y = y\n",
    "    def __call__(self,m,c): #lets try to find slope and intercept\n",
    "        chi2 = sum((y - m*x+c)**2 for x,y in zip(self.x,self.y))\n",
    "        return chi2"
   ]
  },
  {
   "cell_type": "code",
   "execution_count": null,
   "metadata": {
    "collapsed": false
   },
   "outputs": [],
   "source": [
    "chi2 = StraightLineChi2(x,y)\n",
    "describe(chi2)"
   ]
  },
  {
   "cell_type": "code",
   "execution_count": null,
   "metadata": {
    "collapsed": false
   },
   "outputs": [],
   "source": [
    "m = Minuit(chi2)\n",
    "m.migrad()\n",
    "print(m.values)"
   ]
  },
  {
   "cell_type": "markdown",
   "metadata": {},
   "source": [
    "###Faking a function signature\n",
    "This is missing from PyMinuit. iminuit allows you to take funciton sinature by using `func_code.co_varnames` and `func_code.co_argcount`. This is very useful for making a higher order function that takes PDF and data in to calculate appropriate cost function."
   ]
  },
  {
   "cell_type": "code",
   "execution_count": null,
   "metadata": {
    "collapsed": false
   },
   "outputs": [],
   "source": [
    "%pylab inline\n",
    "from iminuit import Minuit, describe, Struct"
   ]
  },
  {
   "cell_type": "code",
   "execution_count": null,
   "metadata": {
    "collapsed": false
   },
   "outputs": [],
   "source": [
    "#this is very useful if you want to build a generic cost functor\n",
    "#this is actually how probfit is implemented\n",
    "from iminuit.util import make_func_code\n",
    "x = [1,2,3,4,5]\n",
    "y = [2,4,6,8,10]# y=2x\n",
    "class Chi2Functor:\n",
    "    def __init__(self,f,x,y):\n",
    "        self.f = f\n",
    "        self.x = x\n",
    "        self.y = y\n",
    "        f_sig = describe(f)\n",
    "        #this is how you fake function \n",
    "        #signature dynamically\n",
    "        self.func_code = make_func_code(f_sig[1:])#docking off independent variable\n",
    "        self.func_defaults = None #this keeps np.vectorize happy\n",
    "    def __call__(self,*arg):\n",
    "        #notice that it accept variable length\n",
    "        #positional arguments\n",
    "        chi2 = sum((y-self.f(x,*arg))**2 for x,y in zip(self.x,self.y))\n",
    "        return chi2"
   ]
  },
  {
   "cell_type": "code",
   "execution_count": null,
   "metadata": {
    "collapsed": false
   },
   "outputs": [],
   "source": [
    "def linear(x,m,c):\n",
    "    return m*x+c\n",
    "\n",
    "def parabola(x,a,b,c):\n",
    "    return a*x**2 + b*x + c "
   ]
  },
  {
   "cell_type": "code",
   "execution_count": null,
   "metadata": {
    "collapsed": false
   },
   "outputs": [],
   "source": [
    "linear_chi2 = Chi2Functor(linear,x,y)\n",
    "describe(linear_chi2)"
   ]
  },
  {
   "cell_type": "code",
   "execution_count": null,
   "metadata": {
    "collapsed": false
   },
   "outputs": [],
   "source": [
    "m = Minuit(linear_chi2)\n",
    "m.migrad();\n",
    "print(m.values)"
   ]
  },
  {
   "cell_type": "code",
   "execution_count": null,
   "metadata": {
    "collapsed": false
   },
   "outputs": [],
   "source": [
    "#now here is the beauty\n",
    "#you can use the same Chi2Functor now for parabola\n",
    "parab_chi2 = Chi2Functor(parabola,x,y)\n",
    "describe(parab_chi2)"
   ]
  },
  {
   "cell_type": "code",
   "execution_count": null,
   "metadata": {
    "collapsed": false
   },
   "outputs": [],
   "source": [
    "m = Minuit(parab_chi2,x,y)\n",
    "m.migrad()\n",
    "print(m.values)"
   ]
  },
  {
   "cell_type": "markdown",
   "metadata": {},
   "source": [
    "####Last Resort: Forcing function signature\n",
    "\n",
    "built-in function normally do not have signature. Function from swig belongs in this categories. Python intro spection will fails and we have to force function signature."
   ]
  },
  {
   "cell_type": "code",
   "execution_count": null,
   "metadata": {
    "collapsed": false
   },
   "outputs": [],
   "source": [
    "%pylab inline\n",
    "from iminuit import Minuit, describe, Struct"
   ]
  },
  {
   "cell_type": "code",
   "execution_count": null,
   "metadata": {
    "collapsed": false
   },
   "outputs": [],
   "source": [
    "%%cython\n",
    "#sometimes you get a function with absolutely no signature\n",
    "def nosig_f(x,y):\n",
    "    return x**2+(y-4)**2"
   ]
  },
  {
   "cell_type": "code",
   "execution_count": null,
   "metadata": {
    "collapsed": false
   },
   "outputs": [],
   "source": [
    "#something from swig will give you a function with no\n",
    "#signature information\n",
    "try:\n",
    "    describe(nosig_f)#it raise error\n",
    "except Exception as e:\n",
    "    print(e)"
   ]
  },
  {
   "cell_type": "code",
   "execution_count": null,
   "metadata": {
    "collapsed": false
   },
   "outputs": [],
   "source": [
    "#Use forced_parameters\n",
    "m = Minuit(nosig_f, forced_parameters=('x','y'))"
   ]
  },
  {
   "cell_type": "code",
   "execution_count": null,
   "metadata": {
    "collapsed": false
   },
   "outputs": [],
   "source": [
    "m.migrad()\n",
    "print(m.values)"
   ]
  },
  {
   "cell_type": "code",
   "execution_count": null,
   "metadata": {
    "collapsed": false
   },
   "outputs": [],
   "source": [
    "print(f)"
   ]
  },
  {
   "cell_type": "markdown",
   "metadata": {},
   "source": [
    "###Frontend\n",
    "Frontend affects how the output from migrad/minos etc are displayed. iminuit is shipped with two frontends. ConsoleFrontend print in text format and HtmlFrontend print html object to Ipython notebook. When you construct Minuit object the front end is selected automatically. If you are in IPython it will use Html frontend; otherwise, it will use console fronend. You can force Minuit to use frontend of your choice too."
   ]
  },
  {
   "cell_type": "code",
   "execution_count": null,
   "metadata": {
    "collapsed": false
   },
   "outputs": [],
   "source": [
    "%pylab inline\n",
    "from iminuit import Minuit, describe, Struct"
   ]
  },
  {
   "cell_type": "code",
   "execution_count": null,
   "metadata": {
    "collapsed": false
   },
   "outputs": [],
   "source": [
    "#this is just showing off console frontend (you can force it)\n",
    "from iminuit.frontends import ConsoleFrontend\n",
    "def f(x,y,z):\n",
    "    return (x-1.)**2 + (y-2.)**2 + (z-3.)**2 -1.\n",
    "m = Minuit(f, frontend=ConsoleFrontend())"
   ]
  },
  {
   "cell_type": "code",
   "execution_count": null,
   "metadata": {
    "collapsed": false
   },
   "outputs": [],
   "source": [
    "m.migrad();"
   ]
  },
  {
   "cell_type": "code",
   "execution_count": null,
   "metadata": {
    "collapsed": false
   },
   "outputs": [],
   "source": []
  }
 ],
 "metadata": {
  "kernelspec": {
   "display_name": "Python 2",
   "language": "python",
   "name": "python2"
  },
  "language_info": {
   "codemirror_mode": {
    "name": "ipython",
    "version": 2
   },
   "file_extension": ".py",
   "mimetype": "text/x-python",
   "name": "python",
   "nbconvert_exporter": "python",
   "pygments_lexer": "ipython2",
   "version": "2.7.12"
  }
 },
 "nbformat": 4,
 "nbformat_minor": 0
}
